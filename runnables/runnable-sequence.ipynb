{
 "cells": [
  {
   "cell_type": "code",
   "execution_count": 21,
   "id": "5fdfe6c4",
   "metadata": {},
   "outputs": [],
   "source": [
    "from dotenv import load_dotenv\n",
    "from langchain_huggingface import ChatHuggingFace, HuggingFaceEndpoint\n",
    "from langchain_core.prompts import PromptTemplate\n",
    "from langchain_core.output_parsers import StrOutputParser\n",
    "from langchain.schema.runnable import RunnableSequence, RunnableParallel, RunnablePassthrough, RunnableLambda, RunnableBranch\n",
    "import os "
   ]
  },
  {
   "cell_type": "code",
   "execution_count": 7,
   "id": "8e51d580",
   "metadata": {},
   "outputs": [
    {
     "name": "stderr",
     "output_type": "stream",
     "text": [
      "d:\\Code\\Python\\genai-projects\\venv\\Lib\\site-packages\\tqdm\\auto.py:21: TqdmWarning: IProgress not found. Please update jupyter and ipywidgets. See https://ipywidgets.readthedocs.io/en/stable/user_install.html\n",
      "  from .autonotebook import tqdm as notebook_tqdm\n"
     ]
    }
   ],
   "source": [
    "load_dotenv()\n",
    "\n",
    "os.environ[\"HF_TOKEN\"] = os.getenv(\"HUGGINGFACE_TOKEN\")\n",
    "os.environ[\"HF_HOME\"] = os.getenv(\"HF_HOME\")\n",
    "\n",
    "llm = HuggingFaceEndpoint(\n",
    "    repo_id=\"meta-llama/Llama-3.2-3B-Instruct\",\n",
    "    task=\"text-generation\"\n",
    ")\n",
    "model = ChatHuggingFace(llm = llm)"
   ]
  },
  {
   "cell_type": "markdown",
   "id": "752af94e",
   "metadata": {},
   "source": [
    "### RunnableSequence"
   ]
  },
  {
   "cell_type": "code",
   "execution_count": null,
   "id": "670e1332",
   "metadata": {},
   "outputs": [
    {
     "name": "stdout",
     "output_type": "stream",
     "text": [
      "This text is a play on words, using the multiple meanings of the phrase \"process its emotions\" to create a pun.\n",
      "\n",
      "In a literal sense, an AI program is designed to process and analyze data, so it's reasonable to assume that the phrase \"process its emotions\" is meant to be taken literally, implying that the AI is having trouble with the emotional aspect of its programming.\n",
      "\n",
      "However, in a more figurative sense, \"process its emotions\" is also an idiomatic expression that means to understand and deal with one's feelings. In this context, the joke is that the AI program, being a machine, is unable to truly \"process its emotions\" in the way that humans do, as it lacks emotional experiences and consciousness.\n",
      "\n",
      "Therefore, the punchline \"Because it was struggling to process its emotions\" is a clever play on words, using the multiple meanings of the phrase to create a humorous and relatable punchline.\n"
     ]
    }
   ],
   "source": [
    "# First generate a joke\n",
    "# Then explain the joke\n",
    "# Output: explanation of the joke (original joke is not returned)\n",
    "prompt = PromptTemplate(\n",
    "    template=\"Write a joke about {topic}\",\n",
    "    input_variables=[\"topic\"]\n",
    ")\n",
    "prompt2 = PromptTemplate(\n",
    "    template=\"Explain the following text: {text}\",\n",
    "    input_variables=[\"text\"]\n",
    ")\n",
    "parser = StrOutputParser()\n",
    "\n",
    "chain = RunnableSequence(prompt, model, parser, prompt2, model, parser)\n",
    "print(chain.invoke({\"topic\": \"AI\"}))"
   ]
  },
  {
   "cell_type": "markdown",
   "id": "60a8bc63",
   "metadata": {},
   "source": [
    "### RunnableParallel"
   ]
  },
  {
   "cell_type": "code",
   "execution_count": 15,
   "id": "1cd03eb3",
   "metadata": {},
   "outputs": [
    {
     "name": "stdout",
     "output_type": "stream",
     "text": [
      "{'linkedIn': \"Here's a potential LinkedIn post about cricket:\\n\\n**Title:** The Unstoppable Rise of Cricket: How a Global Sport is Bridging Cultures and Careers\\n\\n**Post:**\\n\\nAs I watched the thrilling match between India and Australia at the recent ICC World Cup, I couldn't help but think about the incredible impact of cricket on our global community.\\n\\nFrom its humble beginnings in England in the 16th century, cricket has evolved into a beloved sport played by millions of people across the world. But beyond its entertainment value, cricket has also become a powerful tool for building bridges between cultures, fostering friendship and understanding.\\n\\nIn India, cricket is not just a sport - it's a way of life. The passion and dedication of Indian cricketers like MS Dhoni and Virat Kohli have inspired a nation, and their success has brought people together in a way that transcends borders.\\n\\nBut cricket's reach extends far beyond the playing field. The sport has also become a lucrative career opportunity, with many top players earning millions of dollars in endorsements, sponsorships, and salaries.\\n\\nAs someone who's passionate about both sports and business, I'm excited to see how cricket will continue to evolve and grow in the years to come. Whether you're a seasoned cricket fan or just starting to get into the sport, there's no denying its power to unite and inspire us all.\\n\\nSo, who else is excited about the future of cricket? Share your thoughts and let's start a conversation about the sport that's bringing people together like never before!\\n\\n**#Cricket #Sports #Business #GlobalCommunity #CulturalExchange #Inspiration**\\n\\nFeel free to customize it as per your preferences!\", 'tweet': '\"Exciting news for all cricket fans! The ICC Men\\'s T20 World Cup is just around the corner! Who\\'s ready for the thrill of the game? Share your predictions and favorite teams in the comments below! #T20WorldCup #Cricket #Sports\"'}\n"
     ]
    }
   ],
   "source": [
    "# Create two posts for LinkedIn and tweet\n",
    "prompt1 = PromptTemplate(\n",
    "    template=\"Create a LinkedIn post about the topic: {topic}\",\n",
    "    input_variables=[\"topic\"]\n",
    ")\n",
    "prompt2 = PromptTemplate(\n",
    "    template=\"Create a tweet about the topic: {topic}\",\n",
    "    input_variables=[\"topic\"]\n",
    ")\n",
    "chain = RunnableParallel({\n",
    "    \"linkedIn\": RunnableSequence(prompt1, model, parser),\n",
    "    \"tweet\": RunnableSequence(prompt2, model, parser)\n",
    "})\n",
    "print(chain.invoke({\"topic\": \"Cricket\"}))"
   ]
  },
  {
   "cell_type": "markdown",
   "id": "56586301",
   "metadata": {},
   "source": [
    "### RunnablePassthrough"
   ]
  },
  {
   "cell_type": "code",
   "execution_count": null,
   "id": "b0a9b796",
   "metadata": {},
   "outputs": [
    {
     "name": "stdout",
     "output_type": "stream",
     "text": [
      "{'joke': 'Why did the Indian rupee go to therapy?\\n\\nBecause it was feeling a little \"insufficient\"!\\n\\n(Sorry, it\\'s a bit of a \"dough\"-lightful joke!)', 'explanation': 'This joke is a play on words, using puns to create humor. Here\\'s a breakdown:\\n\\n- The setup \"Why did the Indian rupee go to therapy?\" suggests that the rupee is experiencing emotional distress, which is a common reason for going to therapy.\\n- The punchline \"Because it was feeling a little \\'insufficient\\'\" is where the joke gets its humor. In this context, \"insufficient\" has a double meaning:\\n  - In economic terms, an insufficient amount of money or resources can be a problem.\\n  - The word \"insufficient\" sounds similar to \"not enough\" or \"lacking,\" which can also refer to something being insufficient in terms of supply or amount.\\n- The second part of the joke, \"a little \\'dough\\'-lightful,\" adds another layer of wordplay. \"Dough\" is a pun on the phrase \"doughlightful,\" which sounds similar to \"delightful.\" However, \"dough\" is also a term used in baking to refer to the mixture of flour, water, and other ingredients. In this context, it\\'s a clever connection to the currency\\'s name, \"rupee,\" which is a term used in Indian cuisine to refer to a type of flatbread made from wheat dough.\\n- The joke relies on these wordplay connections to create a lighthearted and silly humor, making it a \"dough\"-lightful joke (sorry, it\\'s indeed a bit of a stretch!).'}\n"
     ]
    }
   ],
   "source": [
    "# First generate a joke\n",
    "# Then explain the joke\n",
    "# Expected Output: Original joke and its explanation \n",
    "prompt_create = PromptTemplate(\n",
    "    template=\"Create a joke on the topic: {topic}\",\n",
    "    input_variables=[\"topic\"]\n",
    ")\n",
    "prompt_explain = PromptTemplate(\n",
    "    template=\"Explain the joke: {topic}\",\n",
    "    input_variables=[\"topic\"]\n",
    ")\n",
    "create_chain = RunnableSequence(prompt_create, model, parser)\n",
    "parallel_chain = RunnableParallel({\n",
    "    \"joke\": RunnablePassthrough(),\n",
    "    \"explanation\": RunnableSequence(prompt_explain, model, parser)\n",
    "})\n",
    "final_chain = RunnableSequence(create_chain, parallel_chain)\n",
    "print(final_chain.invoke({\"topic\": \"India\"}))"
   ]
  },
  {
   "cell_type": "markdown",
   "id": "94cf7f3b",
   "metadata": {},
   "source": [
    "### RunnableLambda"
   ]
  },
  {
   "cell_type": "code",
   "execution_count": null,
   "id": "75582d4d",
   "metadata": {},
   "outputs": [
    {
     "name": "stdout",
     "output_type": "stream",
     "text": [
      "{'joke': 'Why did the Indian rupee go to therapy?\\n\\nBecause it was feeling a little \"devalued\"!', 'word_count': 14}\n"
     ]
    }
   ],
   "source": [
    "# Use custom function count_words in Runnablelambda\n",
    "\n",
    "def count_words(sentence):\n",
    "    return len(sentence.split(' '))\n",
    "\n",
    "prompt_create = PromptTemplate(\n",
    "    template=\"Create a joke on the topic: {topic}\",\n",
    "    input_variables=[\"topic\"]\n",
    ")\n",
    "create_chain = RunnableSequence(prompt_create, model, parser)\n",
    "parallel_chain = RunnableParallel({\n",
    "    \"joke\": RunnablePassthrough(),\n",
    "    \"word_count\": RunnableLambda(count_words)\n",
    "})\n",
    "final_chain = RunnableSequence(create_chain, parallel_chain)\n",
    "\n",
    "print(final_chain.invoke({\"topic\": \"India\"}))"
   ]
  },
  {
   "cell_type": "markdown",
   "id": "ae73613e",
   "metadata": {},
   "source": [
    "### RunnableBranch"
   ]
  },
  {
   "cell_type": "code",
   "execution_count": 23,
   "id": "a1788fdf",
   "metadata": {},
   "outputs": [
    {
     "name": "stdout",
     "output_type": "stream",
     "text": [
      "The conflict between Russia and Ukraine has deep historical, cultural, and political roots. The situation escalated in 2014 when Russia annexed Crimea and supported separatist movements in eastern Ukraine, resulting in significant human suffering, displacement, and economic losses.\n",
      "\n",
      "The relationship between Russia and Ukraine dates back to the Kievan Rus', a medieval East Slavic state. Ukraine was a key component of the Rus' state and later became a major center of Eastern Orthodox Christianity. In the 18th century, Ukraine was annexed by the Russian Empire and remained under Russian rule until the Russian Revolution.\n",
      "\n",
      "In 2010, Ukraine's pro-Russian president was ousted, leading to a shift in Ukraine's foreign policy towards the European Union and the United States. Russia responded by tightening its grip on Crimea and supporting separatist movements in eastern Ukraine, resulting in a conflict that has resulted in the deaths of over 13,000 people.\n",
      "\n",
      "The international community has been divided in its response, with some countries imposing economic sanctions on Russia and others maintaining good relations with both Russia and Ukraine. The United Nations has been involved in efforts to broker a peace agreement, but none have been successful.\n",
      "\n",
      "The conflict has had a devastating impact on civilians, particularly in eastern Ukraine, with many cities subject to intense shelling and bombing. The humanitarian crisis has led to a significant influx of refugees, with over 3 million people displaced within Ukraine.\n",
      "\n",
      "A viable solution to the conflict involves a negotiated settlement that recognizes Ukraine's sovereignty and territorial integrity, while also addressing the concerns of Russian-speaking minorities in Ukraine. Economic sanctions on Russia must be lifted, and diplomatic efforts must be intensified to reduce tensions and promote dialogue.\n"
     ]
    }
   ],
   "source": [
    "# Conditional - based on no. of words \n",
    "#  If > 500 words, summarize it. Otherwise print as it is.\n",
    "\n",
    "prompt = PromptTemplate(\n",
    "    template=\"Create a post (between 400-600 words) on the topic: {topic}\",\n",
    "    input_variables=[\"topic\"]\n",
    ")\n",
    "create_chain = RunnableSequence(prompt, model, parser)\n",
    "\n",
    "prompt2 = PromptTemplate(\n",
    "    template=\"Summarize the topic: {topic}\",\n",
    "    input_variables=[\"topic\"]\n",
    ")\n",
    "branch_chain = RunnableBranch(\n",
    "    (lambda x: len(x.split()) > 500, RunnableSequence(prompt2, model, parser)),\n",
    "    RunnablePassthrough()\n",
    ")\n",
    "final_chain = RunnableSequence(create_chain, branch_chain)\n",
    "\n",
    "print(final_chain.invoke({\"topic\": \"Russia v/s Ukraine\"}))\n"
   ]
  }
 ],
 "metadata": {
  "kernelspec": {
   "display_name": "Python 3",
   "language": "python",
   "name": "python3"
  },
  "language_info": {
   "codemirror_mode": {
    "name": "ipython",
    "version": 3
   },
   "file_extension": ".py",
   "mimetype": "text/x-python",
   "name": "python",
   "nbconvert_exporter": "python",
   "pygments_lexer": "ipython3",
   "version": "3.11.13"
  }
 },
 "nbformat": 4,
 "nbformat_minor": 5
}
