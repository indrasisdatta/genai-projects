{
 "cells": [
  {
   "cell_type": "code",
   "execution_count": 11,
   "id": "26665dee",
   "metadata": {},
   "outputs": [],
   "source": [
    "from elasticsearch import Elasticsearch"
   ]
  },
  {
   "cell_type": "code",
   "execution_count": 12,
   "id": "1f754f4c",
   "metadata": {},
   "outputs": [
    {
     "name": "stdout",
     "output_type": "stream",
     "text": [
      "http://localhost:9200\n",
      "[{'_index': 'test-logs', '_id': 'QsWxwJcBISrdcGFvmVDG', '_score': None, '_source': {'@timestamp': '2025-06-08T11:04:10Z', 'level': 'INFO', 'service': 'cart-service', 'message': 'Session started', 'cartId': 'CART33', 'sessionId': 'SESS6825'}, 'sort': [1749380650000]}, {'_index': 'test-logs', '_id': 'QcWxwJcBISrdcGFvmVCN', '_score': None, '_source': {'@timestamp': '2025-06-08T11:03:15Z', 'level': 'INFO', 'service': 'order-service', 'message': 'Order placed', 'cartId': 'CART33', 'sessionId': 'SESS06825', 'orderNum': 'ORD795'}, 'sort': [1749380595000]}, {'_index': 'test-logs', '_id': 'QMWxwJcBISrdcGFvmVBh', '_score': None, '_source': {'@timestamp': '2025-06-08T11:02:00Z', 'level': 'INFO', 'service': 'cart-service', 'message': 'Item added to cart', 'cartId': 'CART33', 'sessionId': 'SESS06825', 'item': 'mob002'}, 'sort': [1749380520000]}, {'_index': 'test-logs', '_id': 'P8WxwJcBISrdcGFvmVAr', '_score': None, '_source': {'@timestamp': '2025-06-08T11:01:05Z', 'level': 'INFO', 'service': 'cart-service', 'message': 'Session started', 'cartId': 'CART33', 'sessionId': 'SESS6825'}, 'sort': [1749380465000]}]\n"
     ]
    }
   ],
   "source": [
    "from dotenv import load_dotenv\n",
    "load_dotenv(override=True)\n",
    "import os \n",
    "import json\n",
    "\n",
    "es = Elasticsearch(\n",
    "    os.getenv(\"ES_URL\"), \n",
    "    basic_auth=(os.getenv(\"ES_USERAME\"), os.getenv(\"ES_PASSWORD\"))\n",
    ")\n",
    "print(os.getenv(\"ES_URL\"))\n",
    "\n",
    "search_str = \"6825\"\n",
    "\n",
    "body_params = {\n",
    "    \"size\": 50,\n",
    "    \"sort\": [{\"@timestamp\": \"desc\"}],\n",
    "    \"query\": {\n",
    "        \"bool\": {\n",
    "            \"should\": [\n",
    "                {\n",
    "                    \"wildcard\": {\n",
    "                        \"sessionId\": { \"value\": \"*{}*\".format(search_str) }\n",
    "                    }\n",
    "                },\n",
    "                {\n",
    "                    \"wildcard\": {\n",
    "                        \"cartId\": { \"value\": \"*{}*\".format(search_str) }\n",
    "                    }\n",
    "                }\n",
    "            ]\n",
    "        }\n",
    "    }\n",
    "}\n",
    "\n",
    "res = es.search(index=os.getenv(\"ES_INDEX\"), body=json.dumps(body_params))\n",
    "\n",
    "print(res['hits']['hits'])"
   ]
  },
  {
   "cell_type": "code",
   "execution_count": 43,
   "id": "58375dd2",
   "metadata": {},
   "outputs": [],
   "source": [
    "examples = [\n",
    "    {\n",
    "        \"question\": \"Show me the cart details for Cart123\",\n",
    "        \"query\": \"\"\"{{ \"query\": {{ \"match\": {{ \"cartId\": \"Cart123\" }} }} }}\"\"\"\n",
    "    },\n",
    "    {\n",
    "        \"question\": \"What are the orders placed between June 20 to June 25 2025?\",\n",
    "        \"query\": \"\"\"{{ \"query\": {{ \"bool\": {{ \"must\": [\n",
    "            {{ \"range\": {{ \"@timestamp\": {{ \"gte\": \"2025-06-20T00:00:00Z\", \"lte\": \"2025-06-25T23:59:59Z\" }} }} }},\n",
    "            {{ \"exists\": {{ \"field\": \"orderNum\" }} }}\n",
    "        ] }} }} }}\"\"\"\n",
    "    }\n",
    "]"
   ]
  },
  {
   "cell_type": "code",
   "execution_count": 14,
   "id": "92012a03",
   "metadata": {},
   "outputs": [],
   "source": [
    "from langchain_core.prompts import PromptTemplate\n",
    "\n",
    "# user_prompt = PromptTemplate.from_template(\"Question: {question} \\n ES Query: {query}\")\n",
    "example_prompt = PromptTemplate(\n",
    "    input_variables=[\"question\", \"query\"],\n",
    "    template=\"Question: {question}\\nES Query: {query}\"\n",
    ")"
   ]
  },
  {
   "cell_type": "code",
   "execution_count": 15,
   "id": "05966701",
   "metadata": {},
   "outputs": [
    {
     "data": {
      "text/plain": [
       "StringPromptValue(text='Question: Show me the cart details for Cart123\\nES Query: {{ \"query\": {{ \"match\": {{ \"cartId\": \"Cart123\" }} }} }}')"
      ]
     },
     "execution_count": 15,
     "metadata": {},
     "output_type": "execute_result"
    }
   ],
   "source": [
    "# Test the prompt formatting\n",
    "example_prompt.invoke(examples[0])"
   ]
  },
  {
   "cell_type": "code",
   "execution_count": 58,
   "id": "43fa6c4a",
   "metadata": {},
   "outputs": [
    {
     "data": {
      "text/plain": [
       "FewShotPromptTemplate(input_variables=['question'], input_types={}, partial_variables={}, examples=[{'question': 'Show me the cart details for Cart123', 'query': '{{ \"query\": {{ \"match\": {{ \"cartId\": \"Cart123\" }} }} }}'}, {'question': 'What are the orders placed between June 20 to June 25 2025?', 'query': '{{ \"query\": {{ \"bool\": {{ \"must\": [\\n            {{ \"range\": {{ \"@timestamp\": {{ \"gte\": \"2025-06-20T00:00:00Z\", \"lte\": \"2025-06-25T23:59:59Z\" }} }} }},\\n            {{ \"exists\": {{ \"field\": \"orderNum\" }} }}\\n        ] }} }} }}'}], example_prompt=PromptTemplate(input_variables=['query', 'question'], input_types={}, partial_variables={}, template='Question: {question}\\nES Query: {query}'), suffix='User input: {question}\\n ES Query:', prefix='You are an Elastisearch DSL generator. In the output, display only the ES query in a valid JSON format. Do not include any additional text or explanations.\\n')"
      ]
     },
     "execution_count": 58,
     "metadata": {},
     "output_type": "execute_result"
    }
   ],
   "source": [
    "from langchain_core.prompts import FewShotPromptTemplate \n",
    "\n",
    "prompt = FewShotPromptTemplate(\n",
    "    examples=examples,\n",
    "    example_prompt=example_prompt,\n",
    "    prefix=\"You are an Elastisearch DSL generator. In the output, display only the ES query in a valid JSON format. Do not include any additional text or explanations.\\n\",\n",
    "    suffix=\"User input: {question}\\n ES Query:\",\n",
    "    input_variables=[\"question\"]\n",
    ")\n",
    "prompt"
   ]
  },
  {
   "cell_type": "code",
   "execution_count": 17,
   "id": "01389cb7",
   "metadata": {},
   "outputs": [
    {
     "name": "stdout",
     "output_type": "stream",
     "text": [
      "Example keys:\n",
      "Example 0: ['question', 'query']\n",
      "Example 1: ['question', 'query']\n"
     ]
    }
   ],
   "source": [
    "# Debug code\n",
    "print(\"Example keys:\")\n",
    "for i, ex in enumerate(prompt.examples):\n",
    "    print(f\"Example {i}:\", list(ex.keys()))"
   ]
  },
  {
   "cell_type": "markdown",
   "id": "6e6351a4",
   "metadata": {},
   "source": []
  },
  {
   "cell_type": "code",
   "execution_count": 59,
   "id": "6833c150",
   "metadata": {},
   "outputs": [
    {
     "data": {
      "text/plain": [
       "'You are an Elastisearch DSL generator. In the output, display only the ES query in a valid JSON format. Do not include any additional text or explanations.\\n\\n\\nQuestion: Show me the cart details for Cart123\\nES Query: { \"query\": { \"match\": { \"cartId\": \"Cart123\" } } }\\n\\nQuestion: What are the orders placed between June 20 to June 25 2025?\\nES Query: { \"query\": { \"bool\": { \"must\": [\\n            { \"range\": { \"@timestamp\": { \"gte\": \"2025-06-20T00:00:00Z\", \"lte\": \"2025-06-25T23:59:59Z\" } } },\\n            { \"exists\": { \"field\": \"orderNum\" } }\\n        ] } } }\\n\\nUser input: Show me the details of session id SESS-123\\n ES Query:'"
      ]
     },
     "execution_count": 59,
     "metadata": {},
     "output_type": "execute_result"
    }
   ],
   "source": [
    "final_prompt = prompt.format(\n",
    "    question=\"Show me the details of session id SESS-123\"\n",
    "    # question=\"Show me the details of order no ORD-5787\"\n",
    "    # question=\"List all sessions created on 1st July 2025\" -> incorrect\n",
    "\n",
    ")\n",
    "final_prompt"
   ]
  },
  {
   "cell_type": "code",
   "execution_count": 48,
   "id": "328ce903",
   "metadata": {},
   "outputs": [],
   "source": [
    "from langchain_groq import ChatGroq \n",
    "\n",
    "llm = ChatGroq(\n",
    "    groq_api_key=os.getenv(\"GROQ_API_KEY\"),\n",
    "    model=\"Llama3-8b-8192\"\n",
    ")"
   ]
  },
  {
   "cell_type": "code",
   "execution_count": 60,
   "id": "9accb63b",
   "metadata": {},
   "outputs": [
    {
     "data": {
      "text/plain": [
       "AIMessage(content='{ \"query\": { \"match\": { \"sessionId\": \"SESS-123\" } } }', additional_kwargs={}, response_metadata={'token_usage': {'completion_tokens': 22, 'prompt_tokens': 200, 'total_tokens': 222, 'completion_time': 0.017830957, 'prompt_time': 0.023242829, 'queue_time': 0.27051968, 'total_time': 0.041073786}, 'model_name': 'Llama3-8b-8192', 'system_fingerprint': 'fp_2717d04279', 'finish_reason': 'stop', 'logprobs': None}, id='run--608e568d-5e9a-4eac-8601-3d9cd70de32e-0', usage_metadata={'input_tokens': 200, 'output_tokens': 22, 'total_tokens': 222})"
      ]
     },
     "execution_count": 60,
     "metadata": {},
     "output_type": "execute_result"
    }
   ],
   "source": [
    "# Get LLM output \n",
    "response = llm.invoke(final_prompt)\n",
    "\n",
    "response"
   ]
  },
  {
   "cell_type": "code",
   "execution_count": 56,
   "id": "1a5326cc",
   "metadata": {},
   "outputs": [],
   "source": [
    "# Helper functions\n",
    "\n",
    "import json \n",
    "\n",
    "def extract_json(text):\n",
    "    text = text.replace(\"\\n\", \"\").replace(\" \", \"\").strip()\n",
    "    try:\n",
    "        # Try direct parsing\n",
    "        return json.loads(text)\n",
    "    except json.JSONDecodeError:\n",
    "        # Extract substring between curly braces {} \n",
    "        try:\n",
    "            json_part = text[text.index('{'):text.rindex('}')+1]\n",
    "            print(\"JSON part extracted:\", json_part)\n",
    "            return json.loads(json_part)\n",
    "        except Exception as e:\n",
    "            print(\"Failed to extract JSON:\", e)\n",
    "            return None\n",
    "        \n",
    "def is_valid_es_query(es_obj):\n",
    "    if not isinstance(es_obj, dict):\n",
    "        return False \n",
    "    return \"query\" in es_obj"
   ]
  },
  {
   "cell_type": "code",
   "execution_count": 62,
   "id": "36710bb9",
   "metadata": {},
   "outputs": [
    {
     "name": "stdout",
     "output_type": "stream",
     "text": [
      "Valid Elasticsearch query: {'query': {'match': {'sessionId': 'SESS-123'}}}\n"
     ]
    }
   ],
   "source": [
    "# Get ES query from AI response\n",
    "\n",
    "es_query = extract_json(response.content)\n",
    "\n",
    "if es_query and is_valid_es_query(es_query):\n",
    "    print(\"Valid Elasticsearch query:\", es_query)\n",
    "else: \n",
    "    print(\"Invalid Elasticsearch query.\")"
   ]
  },
  {
   "cell_type": "code",
   "execution_count": 64,
   "id": "2dbae9f8",
   "metadata": {},
   "outputs": [
    {
     "name": "stdout",
     "output_type": "stream",
     "text": [
      "1. {'@timestamp': '2025-06-26T17:25:20Z', 'level': 'INFO', 'service': 'cart-service', 'message': 'Item added to cart', 'cartId': 'CART-A1F7', 'sessionId': 'SESS-9X3Z', 'item': 'item-7B3D'}\n",
      "2. {'@timestamp': '2025-06-26T17:26:10Z', 'level': 'INFO', 'service': 'order-service', 'message': 'Order placed', 'cartId': 'CART-A1F7', 'sessionId': 'SESS-9X3Z', 'orderNum': 'ORD-91AZ'}\n",
      "3. {'@timestamp': '2025-06-26T17:27:00Z', 'level': 'INFO', 'service': 'cart-service', 'message': 'Session started', 'cartId': 'CART-A1F7', 'sessionId': 'SESS-2LT9'}\n",
      "4. {'@timestamp': '2025-06-06T17:28:30Z', 'level': 'INFO', 'service': 'order-service', 'message': 'Order placed', 'cartId': 'CART-A1F7', 'sessionId': 'SESS-2LT9', 'orderNum': 'ORD-ZY19'}\n",
      "5. {'@timestamp': '2025-06-26T17:25:03Z', 'level': 'INFO', 'service': 'cart-service', 'message': 'Session started', 'cartId': 'CART-A1F7', 'sessionId': 'SESS-9X3Z'}\n",
      "[{'message': 'Item added to cart', '@timestamp': '2025-06-26T17:25:20Z', 'sessionId': 'SESS-9X3Z', 'cartId': 'CART-A1F7', 'orderNum': '-'}, {'message': 'Order placed', '@timestamp': '2025-06-26T17:26:10Z', 'sessionId': 'SESS-9X3Z', 'cartId': 'CART-A1F7', 'orderNum': 'ORD-91AZ'}, {'message': 'Session started', '@timestamp': '2025-06-26T17:27:00Z', 'sessionId': 'SESS-2LT9', 'cartId': 'CART-A1F7', 'orderNum': '-'}, {'message': 'Order placed', '@timestamp': '2025-06-06T17:28:30Z', 'sessionId': 'SESS-2LT9', 'cartId': 'CART-A1F7', 'orderNum': 'ORD-ZY19'}, {'message': 'Session started', '@timestamp': '2025-06-26T17:25:03Z', 'sessionId': 'SESS-9X3Z', 'cartId': 'CART-A1F7', 'orderNum': '-'}]\n"
     ]
    }
   ],
   "source": [
    "# Pass the parsed ES query to Elasticsearch\n",
    "\n",
    "response = es.search(index=os.getenv(\"ES_INDEX\"), body=json.dumps(es_query))\n",
    "# print(res['hits']['hits'])\n",
    "hits = response.get(\"hits\", {}).get(\"hits\", [])\n",
    "\n",
    "logs = []\n",
    "for i,doc in enumerate(hits, 1):\n",
    "    source = doc['_source']\n",
    "    logs.append({\n",
    "        \"message\": source.get(\"message\", \"-\"), \n",
    "        \"@timestamp\": source.get(\"@timestamp\", \"-\"), \n",
    "        \"sessionId\": source.get(\"sessionId\", \"-\"),\n",
    "        \"cartId\": source.get(\"cartId\", \"-\"), \n",
    "        \"orderNum\": source.get(\"orderNum\", \"-\")  \n",
    "    })\n",
    "    print(f\"{i}. {source}\")\n",
    "\n",
    "print(logs)\n"
   ]
  }
 ],
 "metadata": {
  "kernelspec": {
   "display_name": "Python 3",
   "language": "python",
   "name": "python3"
  },
  "language_info": {
   "codemirror_mode": {
    "name": "ipython",
    "version": 3
   },
   "file_extension": ".py",
   "mimetype": "text/x-python",
   "name": "python",
   "nbconvert_exporter": "python",
   "pygments_lexer": "ipython3",
   "version": "3.12.11"
  }
 },
 "nbformat": 4,
 "nbformat_minor": 5
}
