{
 "cells": [
  {
   "cell_type": "code",
   "execution_count": 1,
   "id": "26665dee",
   "metadata": {},
   "outputs": [],
   "source": [
    "from elasticsearch import Elasticsearch"
   ]
  },
  {
   "cell_type": "code",
   "execution_count": 2,
   "id": "1f754f4c",
   "metadata": {},
   "outputs": [
    {
     "name": "stdout",
     "output_type": "stream",
     "text": [
      "http://localhost:9200\n",
      "[{'_index': 'test-logs', '_id': 'QsWxwJcBISrdcGFvmVDG', '_score': None, '_source': {'@timestamp': '2025-06-08T11:04:10Z', 'level': 'INFO', 'service': 'cart-service', 'message': 'Session started', 'cartId': 'CART33', 'sessionId': 'SESS6825'}, 'sort': [1749380650000]}, {'_index': 'test-logs', '_id': 'QcWxwJcBISrdcGFvmVCN', '_score': None, '_source': {'@timestamp': '2025-06-08T11:03:15Z', 'level': 'INFO', 'service': 'order-service', 'message': 'Order placed', 'cartId': 'CART33', 'sessionId': 'SESS06825', 'orderNum': 'ORD795'}, 'sort': [1749380595000]}, {'_index': 'test-logs', '_id': 'QMWxwJcBISrdcGFvmVBh', '_score': None, '_source': {'@timestamp': '2025-06-08T11:02:00Z', 'level': 'INFO', 'service': 'cart-service', 'message': 'Item added to cart', 'cartId': 'CART33', 'sessionId': 'SESS06825', 'item': 'mob002'}, 'sort': [1749380520000]}, {'_index': 'test-logs', '_id': 'P8WxwJcBISrdcGFvmVAr', '_score': None, '_source': {'@timestamp': '2025-06-08T11:01:05Z', 'level': 'INFO', 'service': 'cart-service', 'message': 'Session started', 'cartId': 'CART33', 'sessionId': 'SESS6825'}, 'sort': [1749380465000]}]\n"
     ]
    }
   ],
   "source": [
    "from dotenv import load_dotenv\n",
    "load_dotenv(override=True)\n",
    "import os \n",
    "import json\n",
    "\n",
    "es = Elasticsearch(\n",
    "    os.getenv(\"ES_URL\"), \n",
    "    basic_auth=(os.getenv(\"ES_USERAME\"), os.getenv(\"ES_PASSWORD\"))\n",
    ")\n",
    "print(os.getenv(\"ES_URL\"))\n",
    "\n",
    "search_str = \"6825\"\n",
    "\n",
    "body_params = {\n",
    "    \"size\": 50,\n",
    "    \"sort\": [{\"@timestamp\": \"desc\"}],\n",
    "    \"query\": {\n",
    "        \"bool\": {\n",
    "            \"should\": [\n",
    "                {\n",
    "                    \"wildcard\": {\n",
    "                        \"sessionId\": { \"value\": \"*{}*\".format(search_str) }\n",
    "                    }\n",
    "                },\n",
    "                {\n",
    "                    \"wildcard\": {\n",
    "                        \"cartId\": { \"value\": \"*{}*\".format(search_str) }\n",
    "                    }\n",
    "                }\n",
    "            ]\n",
    "        }\n",
    "    }\n",
    "}\n",
    "\n",
    "res = es.search(index=os.getenv(\"ES_INDEX\"), body=json.dumps(body_params))\n",
    "\n",
    "print(res['hits']['hits'])"
   ]
  },
  {
   "cell_type": "code",
   "execution_count": 3,
   "id": "58375dd2",
   "metadata": {},
   "outputs": [],
   "source": [
    "# examples = [\n",
    "#     {\n",
    "#         \"question\": \"Show me the cart details for Cart123\",\n",
    "#         \"query\": '{ \"query\": { \"match\": { \"cartId\": \"Cart123\" } } }'\n",
    "#     },\n",
    "#     {\n",
    "#         \"question\": \"What are the orders placed between June 20 to June 25 2025?\",\n",
    "#         \"query\": '{ \"query\": { \"bool\": { \"must\": [ { \"range\": { \"@timestamp\": { \"gte\": \"2025-06-20T00:00:00Z\", \"lte\": \"2025-06-25T23:59:59Z\" } } }, { \"exists\": { \"field\": \"orderNum\" } } ] } } }'\n",
    "#     }\n",
    "# ]\n",
    "\n",
    "examples = [\n",
    "    {\n",
    "        \"question\": \"Show me the cart details for Cart123\",\n",
    "        \"query\": \"\"\"{{ \"query\": {{ \"match\": {{ \"cartId\": \"Cart123\" }} }} }}\"\"\"\n",
    "    },\n",
    "    {\n",
    "        \"question\": \"What are the orders placed between June 20 to June 25 2025?\",\n",
    "        \"query\": \"\"\"{{ \"query\": {{ \"bool\": {{ \"must\": [\n",
    "            {{ \"range\": {{ \"@timestamp\": {{ \"gte\": \"2025-06-20T00:00:00Z\", \"lte\": \"2025-06-25T23:59:59Z\" }} }} }},\n",
    "            {{ \"exists\": {{ \"field\": \"orderNum\" }} }}\n",
    "        ] }} }} }}\"\"\"\n",
    "    }\n",
    "]"
   ]
  },
  {
   "cell_type": "code",
   "execution_count": 4,
   "id": "92012a03",
   "metadata": {},
   "outputs": [],
   "source": [
    "from langchain_core.prompts import PromptTemplate\n",
    "\n",
    "# user_prompt = PromptTemplate.from_template(\"Question: {question} \\n ES Query: {query}\")\n",
    "example_prompt = PromptTemplate(\n",
    "    input_variables=[\"question\", \"query\"],\n",
    "    template=\"Question: {question}\\nES Query: {query}\"\n",
    ")"
   ]
  },
  {
   "cell_type": "code",
   "execution_count": 5,
   "id": "05966701",
   "metadata": {},
   "outputs": [
    {
     "data": {
      "text/plain": [
       "StringPromptValue(text='Question: Show me the cart details for Cart123\\nES Query: {{ \"query\": {{ \"match\": {{ \"cartId\": \"Cart123\" }} }} }}')"
      ]
     },
     "execution_count": 5,
     "metadata": {},
     "output_type": "execute_result"
    }
   ],
   "source": [
    "# Test the prompt formatting\n",
    "example_prompt.invoke(examples[0])"
   ]
  },
  {
   "cell_type": "code",
   "execution_count": 6,
   "id": "43fa6c4a",
   "metadata": {},
   "outputs": [
    {
     "data": {
      "text/plain": [
       "FewShotPromptTemplate(input_variables=['question'], input_types={}, partial_variables={}, examples=[{'question': 'Show me the cart details for Cart123', 'query': '{{ \"query\": {{ \"match\": {{ \"cartId\": \"Cart123\" }} }} }}'}, {'question': 'What are the orders placed between June 20 to June 25 2025?', 'query': '{{ \"query\": {{ \"bool\": {{ \"must\": [\\n            {{ \"range\": {{ \"@timestamp\": {{ \"gte\": \"2025-06-20T00:00:00Z\", \"lte\": \"2025-06-25T23:59:59Z\" }} }} }},\\n            {{ \"exists\": {{ \"field\": \"orderNum\" }} }}\\n        ] }} }} }}'}], example_prompt=PromptTemplate(input_variables=['query', 'question'], input_types={}, partial_variables={}, template='Question: {question}\\nES Query: {query}'), suffix='User input: {question}\\n ES Query:', prefix='You are an Elastisearch DSL generator')"
      ]
     },
     "execution_count": 6,
     "metadata": {},
     "output_type": "execute_result"
    }
   ],
   "source": [
    "from langchain_core.prompts import FewShotPromptTemplate \n",
    "\n",
    "prompt = FewShotPromptTemplate(\n",
    "    examples=examples,\n",
    "    example_prompt=example_prompt,\n",
    "    prefix=\"You are an Elastisearch DSL generator\",\n",
    "    suffix=\"User input: {question}\\n ES Query:\",\n",
    "    input_variables=[\"question\"]\n",
    ")\n",
    "prompt"
   ]
  },
  {
   "cell_type": "code",
   "execution_count": 7,
   "id": "01389cb7",
   "metadata": {},
   "outputs": [
    {
     "name": "stdout",
     "output_type": "stream",
     "text": [
      "Example keys:\n",
      "Example 0: ['question', 'query']\n",
      "Example 1: ['question', 'query']\n"
     ]
    }
   ],
   "source": [
    "# Debug code\n",
    "print(\"Example keys:\")\n",
    "for i, ex in enumerate(prompt.examples):\n",
    "    print(f\"Example {i}:\", list(ex.keys()))"
   ]
  },
  {
   "cell_type": "markdown",
   "id": "6e6351a4",
   "metadata": {},
   "source": []
  },
  {
   "cell_type": "code",
   "execution_count": null,
   "id": "6833c150",
   "metadata": {},
   "outputs": [],
   "source": [
    "final_prompt = prompt.format(\n",
    "    question=\"Show me the details of cart id CART-A1F7\"\n",
    ")\n",
    "final_prompt"
   ]
  }
 ],
 "metadata": {
  "kernelspec": {
   "display_name": "Python 3",
   "language": "python",
   "name": "python3"
  },
  "language_info": {
   "codemirror_mode": {
    "name": "ipython",
    "version": 3
   },
   "file_extension": ".py",
   "mimetype": "text/x-python",
   "name": "python",
   "nbconvert_exporter": "python",
   "pygments_lexer": "ipython3",
   "version": "3.12.11"
  }
 },
 "nbformat": 4,
 "nbformat_minor": 5
}
